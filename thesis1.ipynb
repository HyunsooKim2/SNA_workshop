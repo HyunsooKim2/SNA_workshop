{
  "nbformat": 4,
  "nbformat_minor": 0,
  "metadata": {
    "colab": {
      "provenance": [],
      "collapsed_sections": [],
      "authorship_tag": "ABX9TyOyYmuMyv7kJRObVr4QXLdf",
      "include_colab_link": true
    },
    "kernelspec": {
      "name": "ir",
      "display_name": "R"
    },
    "language_info": {
      "name": "R"
    }
  },
  "cells": [
    {
      "cell_type": "markdown",
      "metadata": {
        "id": "view-in-github",
        "colab_type": "text"
      },
      "source": [
        "<a href=\"https://colab.research.google.com/github/HyunsooKim2/SNA_workshop/blob/master/thesis1.ipynb\" target=\"_parent\"><img src=\"https://colab.research.google.com/assets/colab-badge.svg\" alt=\"Open In Colab\"/></a>"
      ]
    },
    {
      "cell_type": "code",
      "execution_count": null,
      "metadata": {
        "colab": {
          "base_uri": "https://localhost:8080/"
        },
        "id": "k4adzPMQwYNv",
        "outputId": "4b7ac3f4-2ca4-4a42-cd95-73a4035b33cc"
      },
      "outputs": [
        {
          "output_type": "stream",
          "name": "stderr",
          "text": [
            "Installing package into ‘/usr/local/lib/R/site-library’\n",
            "(as ‘lib’ is unspecified)\n",
            "\n",
            "Installing package into ‘/usr/local/lib/R/site-library’\n",
            "(as ‘lib’ is unspecified)\n",
            "\n",
            "Loading required package: statnet.common\n",
            "\n",
            "\n",
            "Attaching package: ‘statnet.common’\n",
            "\n",
            "\n",
            "The following objects are masked from ‘package:base’:\n",
            "\n",
            "    attr, order\n",
            "\n",
            "\n",
            "Loading required package: network\n",
            "\n",
            "\n",
            "‘network’ 1.17.2 (2022-05-20), part of the Statnet Project\n",
            "* ‘news(package=\"network\")’ for changes since last version\n",
            "* ‘citation(\"network\")’ for citation information\n",
            "* ‘https://statnet.org’ for help, support, and other information\n",
            "\n",
            "\n",
            "sna: Tools for Social Network Analysis\n",
            "Version 2.7 created on 2022-05-09.\n",
            "copyright (c) 2005, Carter T. Butts, University of California-Irvine\n",
            " For citation information, type citation(\"sna\").\n",
            " Type help(package=\"sna\") to get started.\n",
            "\n",
            "\n"
          ]
        }
      ],
      "source": [
        "install.packages(\"sna\")\n",
        "install.packages(\"asnipe\")\n",
        "library(sna)\n",
        "library(asnipe)"
      ]
    },
    {
      "cell_type": "code",
      "source": [
        "install.packages(\"readxl\")\n",
        "library(readxl)\n"
      ],
      "metadata": {
        "colab": {
          "base_uri": "https://localhost:8080/"
        },
        "id": "45JAaR3_0ulE",
        "outputId": "d94982d9-a870-4685-a214-e489e23db6c1"
      },
      "execution_count": null,
      "outputs": [
        {
          "output_type": "stream",
          "name": "stderr",
          "text": [
            "Installing package into ‘/usr/local/lib/R/site-library’\n",
            "(as ‘lib’ is unspecified)\n",
            "\n",
            "Warning message in install.packages(\"readxl\"):\n",
            "“installation of package ‘readxl’ had non-zero exit status”\n"
          ]
        }
      ]
    },
    {
      "cell_type": "code",
      "source": [
        "install.packages(\"Matrix\")\n",
        "library(Matrix)"
      ],
      "metadata": {
        "colab": {
          "base_uri": "https://localhost:8080/"
        },
        "id": "SpqowoHK4YAX",
        "outputId": "0475044b-b0ba-49f3-f83c-fa1ed164b539"
      },
      "execution_count": null,
      "outputs": [
        {
          "output_type": "stream",
          "name": "stderr",
          "text": [
            "Installing package into ‘/usr/local/lib/R/site-library’\n",
            "(as ‘lib’ is unspecified)\n",
            "\n"
          ]
        }
      ]
    },
    {
      "cell_type": "code",
      "source": [
        "data = read_excel(\"dyadraw.xlsx\")"
      ],
      "metadata": {
        "id": "QcwlXDXv9FMM"
      },
      "execution_count": null,
      "outputs": []
    },
    {
      "cell_type": "code",
      "source": [
        "attach(data)\n",
        "rival <- as.matrix(rival)\n",
        "competition <- as.matrix(comp)\n",
        "overlapping <- as.matrix(overper)\n",
        "overlappingdays <- as.matrix(overper.d)\n",
        "reputation <- as.matrix(rput)\n",
        "samemonth <- as.matrix(samm)"
      ],
      "metadata": {
        "id": "g7TCJGNj6uYh",
        "colab": {
          "base_uri": "https://localhost:8080/"
        },
        "outputId": "1e89552d-b838-4c3b-f313-36522f6e7aff"
      },
      "execution_count": null,
      "outputs": [
        {
          "output_type": "stream",
          "name": "stderr",
          "text": [
            "The following object is masked _by_ .GlobalEnv:\n",
            "\n",
            "    rival\n",
            "\n",
            "\n",
            "The following objects are masked from data (pos = 3):\n",
            "\n",
            "    comp, fbiz, fcon, fent, ffage, ffgen, fflo, fgrad, find, floiext,\n",
            "    floit, focal, fperiod, fpinvr, fres, fteam, fvage, overper,\n",
            "    overper.d, part, pbiz, pcon, pent, pfage, pfgen, pflo, pgrad, pind,\n",
            "    ploiext, ploit, pperiod, ppinvr, pres, pteam 나중에 지워, pvage,\n",
            "    rival, rloiext, rloit, rput, sambiz, samf, samind, samm\n",
            "\n",
            "\n",
            "The following objects are masked from data (pos = 4):\n",
            "\n",
            "    comp, fbiz, fcon, fent, ffage, ffgen, fflo, fgrad, find, floiext,\n",
            "    floit, focal, fperiod, fpinvr, fres, fteam, fvage, overper,\n",
            "    overper.d, part, pbiz, pcon, pent, pfage, pfgen, pflo, pgrad, pind,\n",
            "    ploiext, ploit, pperiod, ppinvr, pres, pteam 나중에 지워, pvage,\n",
            "    rival, rloiext, rloit, rput, sambiz, samf, samind, samm\n",
            "\n",
            "\n",
            "The following objects are masked from data (pos = 5):\n",
            "\n",
            "    comp, fbiz, fcon, fent, ffage, ffgen, fflo, fgrad, find, floiext,\n",
            "    floit, focal, fperiod, fpinvr, fres, fteam, fvage, overper,\n",
            "    overper.d, part, pbiz, pcon, pent, pfage, pfgen, pflo, pgrad, pind,\n",
            "    ploiext, ploit, pperiod, ppinvr, pres, pteam 나중에 지워, pvage,\n",
            "    rival, rloiext, rloit, rput, sambiz, samf, samind, samm\n",
            "\n",
            "\n",
            "The following objects are masked from data (pos = 6):\n",
            "\n",
            "    comp, fbiz, fcon, fent, ffage, ffgen, fflo, fgrad, find, floiext,\n",
            "    floit, focal, fperiod, fpinvr, fres, fteam, fvage, overper,\n",
            "    overper.d, part, pbiz, pcon, pent, pfage, pfgen, pflo, pgrad, pind,\n",
            "    ploiext, ploit, pperiod, ppinvr, pres, pteam 나중에 지워, pvage,\n",
            "    rival, rloiext, rloit, rput, sambiz, samf, samind, samm\n",
            "\n",
            "\n",
            "The following objects are masked from data (pos = 7):\n",
            "\n",
            "    comp, fbiz, fcon, fent, ffage, ffgen, fflo, fgrad, find, floiext,\n",
            "    floit, focal, fperiod, fpinvr, fres, fteam, fvage, overper,\n",
            "    overper.d, part, pbiz, pcon, pent, pfage, pfgen, pflo, pgrad, pind,\n",
            "    ploiext, ploit, pperiod, ppinvr, pres, pteam 나중에 지워, pvage,\n",
            "    rival, rloiext, rloit, rput, sambiz, samf, samind, samm\n",
            "\n",
            "\n",
            "The following objects are masked from data (pos = 8):\n",
            "\n",
            "    comp, fbiz, fcon, fent, ffage, ffgen, fflo, fgrad, find, floiext,\n",
            "    floit, focal, fperiod, fpinvr, fres, fteam, fvage, overper,\n",
            "    overper.d, part, pbiz, pcon, pent, pfage, pfgen, pflo, pgrad, pind,\n",
            "    ploiext, ploit, pperiod, ppinvr, pres, pteam 나중에 지워, pvage,\n",
            "    rival, rloiext, rloit, rput, sambiz, samf, samind, samm\n",
            "\n",
            "\n",
            "The following objects are masked from data (pos = 13):\n",
            "\n",
            "    comp, fbiz, fcon, fent, ffage, ffgen, fflo, fgrad, find, floiext,\n",
            "    floit, focal, fperiod, fpinvr, fres, fteam, fvage, overper,\n",
            "    overper.d, part, pbiz, pcon, pent, pfage, pfgen, pflo, pgrad, pind,\n",
            "    ploiext, ploit, pperiod, ppinvr, pres, pteam 나중에 지워, pvage,\n",
            "    rival, rloiext, rloit, rput, sambiz, samf, samind, samm\n",
            "\n",
            "\n"
          ]
        }
      ]
    },
    {
      "cell_type": "code",
      "source": [
        "lengthofinvestment = as.matrix(rloit)\n",
        "lengthofinvestment1 = as.matrix(rloiext)"
      ],
      "metadata": {
        "id": "F-5axTF460yd"
      },
      "execution_count": null,
      "outputs": []
    },
    {
      "cell_type": "markdown",
      "source": [
        "https://www.rdocumentation.org/packages/sna/versions/2.7/topics/netlm"
      ],
      "metadata": {
        "id": "NCkBO4CpzCC1"
      }
    },
    {
      "cell_type": "markdown",
      "source": [
        "# http://homepage.ntu.edu.tw/~wenthung/R_Network/LabM2.html\n",
        "# https://cran.r-project.org/web/packages/qap/index.html\n",
        "# https://rpubs.com/pjmurphy/338798\n",
        "# https://www.stata.com/meeting/1nasug/simpson.pdf\n",
        "# https://dshizuka.github.io/networkanalysis/07_mrqap.html"
      ],
      "metadata": {
        "id": "PFvuOwhTAjRg"
      }
    },
    {
      "cell_type": "markdown",
      "source": [
        "https://www.rdocumentation.org/packages/asnipe/versions/1.1.16/topics/mrqap.dsp"
      ],
      "metadata": {
        "id": "lpVa3zXM3S5R"
      }
    },
    {
      "cell_type": "code",
      "source": [
        "ln = netlm(lengthofinvestment1,list(rival,samemonth, reputation),reps=1000)"
      ],
      "metadata": {
        "colab": {
          "base_uri": "https://localhost:8080/",
          "height": 201
        },
        "id": "V9Prdmf_AzD3",
        "outputId": "d8560dea-d364-495d-c8b6-543eea2bd847"
      },
      "execution_count": null,
      "outputs": [
        {
          "output_type": "error",
          "ename": "ERROR",
          "evalue": "ignored",
          "traceback": [
            "Error in `[<-`(`*tmp*`, 1:nr, (nr + 1):(nr + nc), value = x): subscript out of bounds\nTraceback:\n",
            "1. netlm(lengthofinvestment1, list(rival, samemonth, reputation), \n .     reps = 1000)",
            "2. as.sociomatrix.sna(x)",
            "3. lapply(x, as.sociomatrix.sna, attrname = attrname, simplify = simplify, \n .     force.bipartite = force.bipartite)"
          ]
        }
      ]
    }
  ]
}